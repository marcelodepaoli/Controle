{
  "nbformat": 4,
  "nbformat_minor": 0,
  "metadata": {
    "colab": {
      "provenance": [],
      "authorship_tag": "ABX9TyP5VCXBKYt948C4ugtVPvNm",
      "include_colab_link": true
    },
    "kernelspec": {
      "name": "python3",
      "display_name": "Python 3"
    },
    "language_info": {
      "name": "python"
    }
  },
  "cells": [
    {
      "cell_type": "markdown",
      "metadata": {
        "id": "view-in-github",
        "colab_type": "text"
      },
      "source": [
        "<a href=\"https://colab.research.google.com/github/marcelodepaoli/Controle/blob/main/Par%C3%A2metros_da_resposta_ao_degrau.ipynb\" target=\"_parent\"><img src=\"https://colab.research.google.com/assets/colab-badge.svg\" alt=\"Open In Colab\"/></a>"
      ]
    },
    {
      "cell_type": "code",
      "execution_count": 1,
      "metadata": {
        "colab": {
          "base_uri": "https://localhost:8080/"
        },
        "id": "mRwM9jWcSr60",
        "outputId": "77173b4f-2847-4641-eda0-29a51d4b242c"
      },
      "outputs": [
        {
          "output_type": "stream",
          "name": "stdout",
          "text": [
            "Collecting control\n",
            "  Downloading control-0.9.4-py3-none-any.whl (455 kB)\n",
            "\u001b[2K     \u001b[90m━━━━━━━━━━━━━━━━━━━━━━━━━━━━━━━━━━━━━━━━\u001b[0m \u001b[32m455.1/455.1 kB\u001b[0m \u001b[31m7.2 MB/s\u001b[0m eta \u001b[36m0:00:00\u001b[0m\n",
            "\u001b[?25hRequirement already satisfied: numpy in /usr/local/lib/python3.10/dist-packages (from control) (1.23.5)\n",
            "Requirement already satisfied: scipy>=1.3 in /usr/local/lib/python3.10/dist-packages (from control) (1.11.3)\n",
            "Requirement already satisfied: matplotlib in /usr/local/lib/python3.10/dist-packages (from control) (3.7.1)\n",
            "Requirement already satisfied: contourpy>=1.0.1 in /usr/local/lib/python3.10/dist-packages (from matplotlib->control) (1.1.1)\n",
            "Requirement already satisfied: cycler>=0.10 in /usr/local/lib/python3.10/dist-packages (from matplotlib->control) (0.12.1)\n",
            "Requirement already satisfied: fonttools>=4.22.0 in /usr/local/lib/python3.10/dist-packages (from matplotlib->control) (4.43.1)\n",
            "Requirement already satisfied: kiwisolver>=1.0.1 in /usr/local/lib/python3.10/dist-packages (from matplotlib->control) (1.4.5)\n",
            "Requirement already satisfied: packaging>=20.0 in /usr/local/lib/python3.10/dist-packages (from matplotlib->control) (23.2)\n",
            "Requirement already satisfied: pillow>=6.2.0 in /usr/local/lib/python3.10/dist-packages (from matplotlib->control) (9.4.0)\n",
            "Requirement already satisfied: pyparsing>=2.3.1 in /usr/local/lib/python3.10/dist-packages (from matplotlib->control) (3.1.1)\n",
            "Requirement already satisfied: python-dateutil>=2.7 in /usr/local/lib/python3.10/dist-packages (from matplotlib->control) (2.8.2)\n",
            "Requirement already satisfied: six>=1.5 in /usr/local/lib/python3.10/dist-packages (from python-dateutil>=2.7->matplotlib->control) (1.16.0)\n",
            "Installing collected packages: control\n",
            "Successfully installed control-0.9.4\n"
          ]
        }
      ],
      "source": [
        "pip install control"
      ]
    },
    {
      "cell_type": "code",
      "source": [
        "import control as ctl\n",
        "import matplotlib.pyplot as plt\n",
        "import numpy as np"
      ],
      "metadata": {
        "id": "3-F0OivZTCzJ"
      },
      "execution_count": 2,
      "outputs": []
    },
    {
      "cell_type": "code",
      "source": [
        "#função para calcular as grandezas da resposta no tempo\n",
        "#CUIDADO, para funcionar o tempo de simulação deve ser grande o suficiente\n",
        "def my_step_info(t,y):\n",
        "  peak_time = t[np.argmax(y)]\n",
        "  overshot = (y.max()/y[-1] - 1)*100\n",
        "  for i in range(0, len(y)-1):\n",
        "    if (y[i] > y[-1]*0.10):\n",
        "      i_10 = i\n",
        "      break\n",
        "  for i in range(0, len(y)-1):\n",
        "    if (y[i] > y[-1]*0.90):\n",
        "      i_90 = i\n",
        "      break\n",
        "  rise_time = t[i_90] - t[i_10]\n",
        "  for i in range(2, len(y)-1):\n",
        "    if (abs(y[-i]/y[-1]) > 1.02) or (abs(y[-i]/y[-1]) < 0.98):\n",
        "      qts = i\n",
        "      break\n",
        "  settling_time = t[len(y)-qts]\n",
        "  return peak_time, overshot, rise_time, settling_time"
      ],
      "metadata": {
        "id": "LluiDvEDTc9W"
      },
      "execution_count": 12,
      "outputs": []
    },
    {
      "cell_type": "code",
      "source": [
        "#cria a função de transferência\n",
        "T_sim = 10\n",
        "T = np.linspace(-1, T_sim, 1000)\n",
        "\n",
        "H_s = ctl.tf([9], [1, 3, 9])\n",
        "print('FT = ', H_s)\n",
        "\n",
        "T_mf, yout_mf = ctl.step_response(H_s, T[T>0])\n",
        "pt, os, rt, st = my_step_info(T_mf, yout_mf)\n",
        "\n",
        "print('peak time = {:0.2f} s'.format(pt))\n",
        "print('overshoot = {:0.2f} %'.format(os))\n",
        "print('rise time = {:0.2f} s'.format(rt))\n",
        "print('settling time = {:0.2f} s'.format(st))"
      ],
      "metadata": {
        "colab": {
          "base_uri": "https://localhost:8080/"
        },
        "id": "4qL0nrvrZadZ",
        "outputId": "33beb0e8-d9a7-4508-a22b-ea1a86a9a8ba"
      },
      "execution_count": 14,
      "outputs": [
        {
          "output_type": "stream",
          "name": "stdout",
          "text": [
            "FT =  \n",
            "      9\n",
            "-------------\n",
            "s^2 + 3 s + 9\n",
            "\n",
            "peak time = 1.21 s\n",
            "overshoot = 16.30 %\n",
            "rise time = 0.55 s\n",
            "settling time = 2.69 s\n"
          ]
        }
      ]
    },
    {
      "cell_type": "code",
      "source": [
        "#plota os resultados\n",
        "plt.figure()\n",
        "plt.plot(T_mf, yout_mf, 'b-')\n",
        "plt.xlabel('tempo (s)')\n",
        "plt.legend(['resposta ao degrau'])\n",
        "plt.title('Sistema H(s)')\n",
        "plt.grid()"
      ],
      "metadata": {
        "colab": {
          "base_uri": "https://localhost:8080/",
          "height": 472
        },
        "id": "MuEH5nLTcRVI",
        "outputId": "2e074b8f-c675-49c3-fcc3-a80dd5a3aa08"
      },
      "execution_count": 15,
      "outputs": [
        {
          "output_type": "display_data",
          "data": {
            "text/plain": [
              "<Figure size 640x480 with 1 Axes>"
            ],
            "image/png": "[encoded data removed]"
          },
          "metadata": {}
        }
      ]
    },
    {
      "cell_type": "code",
      "source": [],
      "metadata": {
        "id": "GcIpw3vpcz2o"
      },
      "execution_count": null,
      "outputs": []
    }
  ]
}