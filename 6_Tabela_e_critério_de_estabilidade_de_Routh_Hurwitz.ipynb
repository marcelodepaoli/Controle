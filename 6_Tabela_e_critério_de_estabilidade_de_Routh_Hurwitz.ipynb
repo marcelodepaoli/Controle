{
  "nbformat": 4,
  "nbformat_minor": 0,
  "metadata": {
    "colab": {
      "provenance": [],
      "authorship_tag": "ABX9TyPaAvBMa5pz/zmPsprk5uUE",
      "include_colab_link": true
    },
    "kernelspec": {
      "name": "python3",
      "display_name": "Python 3"
    },
    "language_info": {
      "name": "python"
    }
  },
  "cells": [
    {
      "cell_type": "markdown",
      "metadata": {
        "id": "view-in-github",
        "colab_type": "text"
      },
      "source": [
        "<a href=\"https://colab.research.google.com/github/marcelodepaoli/Controle/blob/main/Tabela_e_crit%C3%A9rio_de_estabilidade_de_Routh_Hurwitz.ipynb\" target=\"_parent\"><img src=\"https://colab.research.google.com/assets/colab-badge.svg\" alt=\"Open In Colab\"/></a>"
      ]
    },
    {
      "cell_type": "code",
      "execution_count": 1,
      "metadata": {
        "colab": {
          "base_uri": "https://localhost:8080/"
        },
        "id": "g9qZaMKGjbYo",
        "outputId": "75a0e1a7-abc1-42b2-f247-60b3f749016d"
      },
      "outputs": [
        {
          "output_type": "stream",
          "name": "stdout",
          "text": [
            "Collecting tbcontrol\n",
            "  Downloading tbcontrol-0.2.1-py3-none-any.whl (24 kB)\n",
            "Requirement already satisfied: numpy in /usr/local/lib/python3.10/dist-packages (from tbcontrol) (1.23.5)\n",
            "Requirement already satisfied: scipy in /usr/local/lib/python3.10/dist-packages (from tbcontrol) (1.11.3)\n",
            "Requirement already satisfied: tqdm in /usr/local/lib/python3.10/dist-packages (from tbcontrol) (4.66.1)\n",
            "Requirement already satisfied: packaging in /usr/local/lib/python3.10/dist-packages (from tbcontrol) (23.2)\n",
            "Installing collected packages: tbcontrol\n",
            "Successfully installed tbcontrol-0.2.1\n"
          ]
        }
      ],
      "source": [
        "pip install tbcontrol"
      ]
    },
    {
      "cell_type": "code",
      "source": [
        "from tbcontrol.symbolic import routh\n",
        "import sympy"
      ],
      "metadata": {
        "id": "ncOsLqD0jwtC"
      },
      "execution_count": 2,
      "outputs": []
    },
    {
      "cell_type": "code",
      "source": [
        "#tabela de Routh com K numérico\n",
        "s = sympy.Symbol('s')\n",
        "\n",
        "#FT malha aberta\n",
        "C_s = 1\n",
        "P_s = 1000/((s+2)*(s+3)*(s+5))\n",
        "G_s = sympy.expand(C_s*P_s)\n",
        "print('Malha aberta G(s) = {}'.format(G_s))\n",
        "\n",
        "#FT malha fechada\n",
        "H_s = 1\n",
        "G1_s = sympy.cancel(G_s/(1+G_s*H_s))\n",
        "print('Malha fechada G1(s) = {}'.format(G1_s))\n",
        "\n",
        "num_G1_s, den_G1_s = sympy.fraction(G1_s)\n",
        "print('Tabela de Routh')\n",
        "routh(sympy.poly(den_G1_s,s))\n",
        "\n",
        "#o sistema é instável"
      ],
      "metadata": {
        "colab": {
          "base_uri": "https://localhost:8080/",
          "height": 151
        },
        "id": "7megQrYulPRp",
        "outputId": "6c60f5d7-f323-4309-9b65-8cc23db1ce35"
      },
      "execution_count": 8,
      "outputs": [
        {
          "output_type": "stream",
          "name": "stdout",
          "text": [
            "Malha aberta G(s) = 1000/(s**3 + 10*s**2 + 31*s + 30)\n",
            "Malha fechada G1(s) = 1000/(s**3 + 10*s**2 + 31*s + 1030)\n",
            "Tabela de Routh\n"
          ]
        },
        {
          "output_type": "execute_result",
          "data": {
            "text/plain": [
              "Matrix([\n",
              "[   1,   31],\n",
              "[  10, 1030],\n",
              "[ -72,    0],\n",
              "[1030,    0]])"
            ],
            "text/latex": "$\\displaystyle \\left[\\begin{matrix}1 & 31\\\\10 & 1030\\\\-72 & 0\\\\1030 & 0\\end{matrix}\\right]$"
          },
          "metadata": {},
          "execution_count": 8
        }
      ]
    },
    {
      "cell_type": "code",
      "source": [
        "#tabela de Routh com K literal\n",
        "s = sympy.Symbol('s')\n",
        "K = sympy.Symbol('K')\n",
        "\n",
        "#FT malha aberta\n",
        "C_s = K\n",
        "P_s = (s+20)/(s*(s+2)*(s+3))\n",
        "G_s = C_s*P_s\n",
        "print('Malha aberta G(s) = {}'.format(G_s))\n",
        "\n",
        "#FT malha fechada\n",
        "H_s = 1\n",
        "G1_s = sympy.cancel(G_s/(1+G_s*H_s))\n",
        "print('Malha fechada G1(s) = {}'.format(G1_s))\n",
        "\n",
        "num_G1_s, den_G1_s = sympy.fraction(G1_s)\n",
        "tab_routh = routh(sympy.poly(den_G1_s,s))\n",
        "K_estab = sympy.solve([e>0 for e in tab_routh[:,0]], K)\n",
        "sympy.pprint('Sistema estável se: {}'.format(K_estab))\n",
        "\n",
        "print('Tabela de Routh')\n",
        "routh(sympy.poly(den_G1_s,s))"
      ],
      "metadata": {
        "colab": {
          "base_uri": "https://localhost:8080/",
          "height": 168
        },
        "id": "jPCOKfdMqhAi",
        "outputId": "b387d642-6370-48b7-b723-1b17c07e664c"
      },
      "execution_count": 13,
      "outputs": [
        {
          "output_type": "stream",
          "name": "stdout",
          "text": [
            "Malha aberta G(s) = K*(s + 20)/(s*(s + 2)*(s + 3))\n",
            "Malha fechada G1(s) = (K*s + 20*K)/(K*s + 20*K + s**3 + 5*s**2 + 6*s)\n",
            "Sistema estável se: (0 < K) & (K < 2)\n",
            "Tabela de Routh\n"
          ]
        },
        {
          "output_type": "execute_result",
          "data": {
            "text/plain": [
              "Matrix([\n",
              "[      1, K + 6],\n",
              "[      5,  20*K],\n",
              "[6 - 3*K,     0],\n",
              "[   20*K,     0]])"
            ],
            "text/latex": "$\\displaystyle \\left[\\begin{matrix}1 & K + 6\\\\5 & 20 K\\\\6 - 3 K & 0\\\\20 K & 0\\end{matrix}\\right]$"
          },
          "metadata": {},
          "execution_count": 13
        }
      ]
    },
    {
      "cell_type": "code",
      "source": [],
      "metadata": {
        "id": "NE4yP9Y5r2bK"
      },
      "execution_count": null,
      "outputs": []
    }
  ]
}
