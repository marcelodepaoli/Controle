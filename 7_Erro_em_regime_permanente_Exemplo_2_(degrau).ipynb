{
  "nbformat": 4,
  "nbformat_minor": 0,
  "metadata": {
    "colab": {
      "provenance": [],
      "authorship_tag": "ABX9TyNXTILE0BMsZcDhYBkcURak",
      "include_colab_link": true
    },
    "kernelspec": {
      "name": "python3",
      "display_name": "Python 3"
    },
    "language_info": {
      "name": "python"
    }
  },
  "cells": [
    {
      "cell_type": "markdown",
      "metadata": {
        "id": "view-in-github",
        "colab_type": "text"
      },
      "source": [
        "<a href=\"https://colab.research.google.com/github/marcelodepaoli/Controle/blob/main/7_Erro_em_regime_permanente_Exemplo_2_(degrau).ipynb\" target=\"_parent\"><img src=\"https://colab.research.google.com/assets/colab-badge.svg\" alt=\"Open In Colab\"/></a>"
      ]
    },
    {
      "cell_type": "code",
      "execution_count": null,
      "metadata": {
        "colab": {
          "base_uri": "https://localhost:8080/"
        },
        "id": "wxEc-dPFojYX",
        "outputId": "abffe14f-f80e-4304-dd26-b07538bea00d"
      },
      "outputs": [
        {
          "output_type": "stream",
          "name": "stdout",
          "text": [
            "Collecting control\n",
            "  Downloading control-0.9.4-py3-none-any.whl (455 kB)\n",
            "\u001b[2K     \u001b[90m━━━━━━━━━━━━━━━━━━━━━━━━━━━━━━━━━━━━━━━━\u001b[0m \u001b[32m455.1/455.1 kB\u001b[0m \u001b[31m6.7 MB/s\u001b[0m eta \u001b[36m0:00:00\u001b[0m\n",
            "\u001b[?25hRequirement already satisfied: numpy in /usr/local/lib/python3.10/dist-packages (from control) (1.23.5)\n",
            "Requirement already satisfied: scipy>=1.3 in /usr/local/lib/python3.10/dist-packages (from control) (1.11.3)\n",
            "Requirement already satisfied: matplotlib in /usr/local/lib/python3.10/dist-packages (from control) (3.7.1)\n",
            "Requirement already satisfied: contourpy>=1.0.1 in /usr/local/lib/python3.10/dist-packages (from matplotlib->control) (1.2.0)\n",
            "Requirement already satisfied: cycler>=0.10 in /usr/local/lib/python3.10/dist-packages (from matplotlib->control) (0.12.1)\n",
            "Requirement already satisfied: fonttools>=4.22.0 in /usr/local/lib/python3.10/dist-packages (from matplotlib->control) (4.44.0)\n",
            "Requirement already satisfied: kiwisolver>=1.0.1 in /usr/local/lib/python3.10/dist-packages (from matplotlib->control) (1.4.5)\n",
            "Requirement already satisfied: packaging>=20.0 in /usr/local/lib/python3.10/dist-packages (from matplotlib->control) (23.2)\n",
            "Requirement already satisfied: pillow>=6.2.0 in /usr/local/lib/python3.10/dist-packages (from matplotlib->control) (9.4.0)\n",
            "Requirement already satisfied: pyparsing>=2.3.1 in /usr/local/lib/python3.10/dist-packages (from matplotlib->control) (3.1.1)\n",
            "Requirement already satisfied: python-dateutil>=2.7 in /usr/local/lib/python3.10/dist-packages (from matplotlib->control) (2.8.2)\n",
            "Requirement already satisfied: six>=1.5 in /usr/local/lib/python3.10/dist-packages (from python-dateutil>=2.7->matplotlib->control) (1.16.0)\n",
            "Installing collected packages: control\n",
            "Successfully installed control-0.9.4\n"
          ]
        }
      ],
      "source": [
        "pip install control"
      ]
    },
    {
      "cell_type": "code",
      "source": [
        "import control as ctl\n",
        "import matplotlib.pyplot as plt\n",
        "import numpy as np\n",
        "import sympy"
      ],
      "metadata": {
        "id": "XvCBSBuSqtKC"
      },
      "execution_count": null,
      "outputs": []
    },
    {
      "cell_type": "code",
      "source": [
        "#FTMA\n",
        "s = ctl.TransferFunction.s\n",
        "\n",
        "J_s = 2+0.5/s\n",
        "H_s = 3/(s+2)\n",
        "G_s = J_s*H_s\n",
        "print(f\"G(s) = {G_s}\")\n",
        "\n",
        "#FTMF\n",
        "T_s = G_s/(1+G_s)\n",
        "print(f\"T(s) = {T_s}\")\n",
        "\n",
        "# Tempo de simulação\n",
        "Tsim = 20\n",
        "\n",
        "# Resposta ao degrau unitário\n",
        "T_mf, yout_mf = ctl.step_response(T_s, Tsim)\n",
        "\n",
        "# Degrau unitário (para ficar bonito no gráfico)\n",
        "T_degrau = np.linspace(-1, Tsim, 1000)\n",
        "y_degrau = np.ones_like(T_degrau)\n",
        "y_degrau[T_degrau < 0] = 0\n",
        "\n",
        "# Plota os resultados\n",
        "plt.plot(T_mf, yout_mf, 'b-')\n",
        "plt.plot(T_degrau, y_degrau, 'r-')\n",
        "plt.xlabel('tempo (s)')\n",
        "plt.legend(['resposta em malha fechada', 'degrau unitário'])\n",
        "plt.grid()\n",
        "\n",
        "# Erro em regime permanente de MF a partir da FTMA G(s)\n",
        "s_ = sympy.symbols(\"s_\")\n",
        "\n",
        "J_s_ = 2+0.5/s_\n",
        "H_s_ = 3/(s_+2)\n",
        "G_s_ = J_s_*H_s_\n",
        "R_s_ = 1/s_\n",
        "\n",
        "erro_inf = sympy.limit(s_*R_s_/(1+G_s_), s_, 0)\n",
        "print(f\"Erro em regime permanente: {erro_inf}\")"
      ],
      "metadata": {
        "colab": {
          "base_uri": "https://localhost:8080/",
          "height": 640
        },
        "id": "SlcWzGktq2pD",
        "outputId": "713e2529-cfde-41bd-d90a-7aef585b53ec"
      },
      "execution_count": null,
      "outputs": [
        {
          "output_type": "stream",
          "name": "stdout",
          "text": [
            "G(s) = \n",
            "6 s + 1.5\n",
            "---------\n",
            "s^2 + 2 s\n",
            "\n",
            "T(s) = \n",
            "   6 s^3 + 13.5 s^2 + 3 s\n",
            "-----------------------------\n",
            "s^4 + 10 s^3 + 17.5 s^2 + 3 s\n",
            "\n",
            "Erro em regime permanente: 0\n"
          ]
        },
        {
          "output_type": "display_data",
          "data": {
            "text/plain": [
              "<Figure size 640x480 with 1 Axes>"
            ],
            "image/png": "[encoded data removed]"
          },
          "metadata": {}
        }
      ]
    },
    {
      "cell_type": "code",
      "source": [],
      "metadata": {
        "id": "ZKd9m3sottqM"
      },
      "execution_count": null,
      "outputs": []
    }
  ]
}