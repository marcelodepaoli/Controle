{
  "nbformat": 4,
  "nbformat_minor": 0,
  "metadata": {
    "colab": {
      "provenance": []
    },
    "kernelspec": {
      "name": "python3",
      "display_name": "Python 3"
    },
    "language_info": {
      "name": "python"
    }
  },
  "cells": [
    {
      "cell_type": "code",
      "source": [
        "pip install control"
      ],
      "metadata": {
        "colab": {
          "base_uri": "https://localhost:8080/"
        },
        "id": "Xw2GX1AUSt8P",
        "outputId": "9dbcf22c-64b5-4f94-a768-e5a500909805"
      },
      "execution_count": null,
      "outputs": [
        {
          "output_type": "stream",
          "name": "stdout",
          "text": [
            "Collecting control\n",
            "  Downloading control-0.9.4-py3-none-any.whl (455 kB)\n",
            "\u001b[?25l     \u001b[90m━━━━━━━━━━━━━━━━━━━━━━━━━━━━━━━━━━━━━━━━\u001b[0m \u001b[32m0.0/455.1 kB\u001b[0m \u001b[31m?\u001b[0m eta \u001b[36m-:--:--\u001b[0m\r\u001b[2K     \u001b[91m━━━━━━━━━━━━━━━━━━━━━━━━━━━━━━━━━━━━━\u001b[0m\u001b[91m╸\u001b[0m \u001b[32m450.6/455.1 kB\u001b[0m \u001b[31m14.2 MB/s\u001b[0m eta \u001b[36m0:00:01\u001b[0m\r\u001b[2K     \u001b[90m━━━━━━━━━━━━━━━━━━━━━━━━━━━━━━━━━━━━━━\u001b[0m \u001b[32m455.1/455.1 kB\u001b[0m \u001b[31m10.4 MB/s\u001b[0m eta \u001b[36m0:00:00\u001b[0m\n",
            "\u001b[?25hRequirement already satisfied: numpy in /usr/local/lib/python3.10/dist-packages (from control) (1.23.5)\n",
            "Requirement already satisfied: scipy>=1.3 in /usr/local/lib/python3.10/dist-packages (from control) (1.11.2)\n",
            "Requirement already satisfied: matplotlib in /usr/local/lib/python3.10/dist-packages (from control) (3.7.1)\n",
            "Requirement already satisfied: contourpy>=1.0.1 in /usr/local/lib/python3.10/dist-packages (from matplotlib->control) (1.1.0)\n",
            "Requirement already satisfied: cycler>=0.10 in /usr/local/lib/python3.10/dist-packages (from matplotlib->control) (0.11.0)\n",
            "Requirement already satisfied: fonttools>=4.22.0 in /usr/local/lib/python3.10/dist-packages (from matplotlib->control) (4.42.1)\n",
            "Requirement already satisfied: kiwisolver>=1.0.1 in /usr/local/lib/python3.10/dist-packages (from matplotlib->control) (1.4.5)\n",
            "Requirement already satisfied: packaging>=20.0 in /usr/local/lib/python3.10/dist-packages (from matplotlib->control) (23.1)\n",
            "Requirement already satisfied: pillow>=6.2.0 in /usr/local/lib/python3.10/dist-packages (from matplotlib->control) (9.4.0)\n",
            "Requirement already satisfied: pyparsing>=2.3.1 in /usr/local/lib/python3.10/dist-packages (from matplotlib->control) (3.1.1)\n",
            "Requirement already satisfied: python-dateutil>=2.7 in /usr/local/lib/python3.10/dist-packages (from matplotlib->control) (2.8.2)\n",
            "Requirement already satisfied: six>=1.5 in /usr/local/lib/python3.10/dist-packages (from python-dateutil>=2.7->matplotlib->control) (1.16.0)\n",
            "Installing collected packages: control\n",
            "Successfully installed control-0.9.4\n"
          ]
        }
      ]
    },
    {
      "cell_type": "code",
      "source": [
        "#importando as bibliotecas\n",
        "import control as ctl\n",
        "import matplotlib.pyplot as plt\n",
        "import numpy as np"
      ],
      "metadata": {
        "id": "ZHyYX52aSwnu"
      },
      "execution_count": null,
      "outputs": []
    },
    {
      "cell_type": "code",
      "source": [
        "#define as constantes\n",
        "K=1.6\n",
        "M=0.1\n",
        "fv=0.2\n",
        "wn=np.sqrt(K/M)\n",
        "Tsim=10"
      ],
      "metadata": {
        "id": "-1xUDBzvTMlf"
      },
      "execution_count": null,
      "outputs": []
    },
    {
      "cell_type": "code",
      "source": [
        "#cria a função transferência em malha aberta\n",
        "P_s=ctl.tf([1],[M,fv,K])\n",
        "print('FT malha aberta=',P_s)"
      ],
      "metadata": {
        "colab": {
          "base_uri": "https://localhost:8080/"
        },
        "id": "TQSvIOL6T80Q",
        "outputId": "d2fca2ed-8642-43e9-c6c6-862b8054e50c"
      },
      "execution_count": null,
      "outputs": [
        {
          "output_type": "stream",
          "name": "stdout",
          "text": [
            "FT malha aberta= \n",
            "          1\n",
            "---------------------\n",
            "0.1 s^2 + 0.2 s + 1.6\n",
            "\n"
          ]
        }
      ]
    },
    {
      "cell_type": "code",
      "source": [
        "#controlador PID\n",
        "Kp=10*wn\n",
        "Ki=2*wn\n",
        "Kd=1*wn\n",
        "C_s=ctl.tf([Kd,Kp,Ki],[1,0])\n",
        "print('FT controlador=',C_s)"
      ],
      "metadata": {
        "colab": {
          "base_uri": "https://localhost:8080/"
        },
        "id": "y4bRMjYbUsLP",
        "outputId": "29c86831-fae1-452d-e5dd-d56c089ed868"
      },
      "execution_count": null,
      "outputs": [
        {
          "output_type": "stream",
          "name": "stdout",
          "text": [
            "FT controlador= \n",
            "4 s^2 + 40 s + 8\n",
            "----------------\n",
            "       s\n",
            "\n"
          ]
        }
      ]
    },
    {
      "cell_type": "code",
      "source": [
        "#sensor unitário\n",
        "H_s=ctl.tf([1],[1])\n",
        "print('FT sensor unitário=',H_s)"
      ],
      "metadata": {
        "colab": {
          "base_uri": "https://localhost:8080/"
        },
        "id": "Xsp8u9vJVr2w",
        "outputId": "dc8ae72f-fafa-4a12-b046-053bb9283b29"
      },
      "execution_count": null,
      "outputs": [
        {
          "output_type": "stream",
          "name": "stdout",
          "text": [
            "FT sensor unitário= \n",
            "1\n",
            "-\n",
            "1\n",
            "\n"
          ]
        }
      ]
    },
    {
      "cell_type": "code",
      "source": [
        "#FT em malha fechada\n",
        "#G1_s=(C_s*P_s)/(1+C_s*P_s*H_s)\n",
        "G1_s=ctl.feedback(ctl.series(C_s,P_s),H_s,sign=-1)\n",
        "print('FT malha fechada=',G1_s)"
      ],
      "metadata": {
        "colab": {
          "base_uri": "https://localhost:8080/"
        },
        "id": "PjYSVwnbW6Ev",
        "outputId": "76ea7579-0c14-4d4e-80a4-88b7328abf18"
      },
      "execution_count": null,
      "outputs": [
        {
          "output_type": "stream",
          "name": "stdout",
          "text": [
            "FT malha fechada= \n",
            "       4 s^2 + 40 s + 8\n",
            "------------------------------\n",
            "0.1 s^3 + 4.2 s^2 + 41.6 s + 8\n",
            "\n"
          ]
        }
      ]
    },
    {
      "cell_type": "code",
      "source": [
        "#calcula a resposta ao degrau\n",
        "T_ma,yout_ma=ctl.step_response(P_s,Tsim)\n",
        "T_mf,yout_mf=ctl.step_response(G1_s,Tsim)"
      ],
      "metadata": {
        "id": "fRfixBAFYIhv"
      },
      "execution_count": null,
      "outputs": []
    },
    {
      "cell_type": "code",
      "source": [
        "#calcula um degrau unitário\n",
        "T_degrau=np.linspace(-1,Tsim,1000)\n",
        "degrau=np.ones_like(T_degrau)\n",
        "degrau[T_degrau<0]=0"
      ],
      "metadata": {
        "id": "Sr6k0UvHZAww"
      },
      "execution_count": null,
      "outputs": []
    },
    {
      "cell_type": "code",
      "source": [
        "#plota os resultados\n",
        "plt.plot(T_ma,yout_ma,'b-')\n",
        "plt.plot(T_mf,yout_mf,'r-')\n",
        "plt.plot(T_degrau,degrau,'k-')\n",
        "plt.xlabel('tempo (s)')\n",
        "plt.ylabel('posição (m)')\n",
        "plt.legend(['malha aberta','malha fechada','degrau unitário'])\n",
        "plt.title('Sistema massa-mola - Sistema de 2a ordem')\n",
        "plt.grid()"
      ],
      "metadata": {
        "colab": {
          "base_uri": "https://localhost:8080/",
          "height": 472
        },
        "id": "VNIRPH2wZsGw",
        "outputId": "23db5946-863b-40e9-e2d5-8c1f091721f0"
      },
      "execution_count": null,
      "outputs": [
        {
          "output_type": "display_data",
          "data": {
            "text/plain": [
              "<Figure size 640x480 with 1 Axes>"
            ],
            "image/png": "[encoded data removed]"
          },
          "metadata": {}
        }
      ]
    },
    {
      "cell_type": "code",
      "source": [],
      "metadata": {
        "id": "44pAVjEaalvv"
      },
      "execution_count": null,
      "outputs": []
    }
  ]
}